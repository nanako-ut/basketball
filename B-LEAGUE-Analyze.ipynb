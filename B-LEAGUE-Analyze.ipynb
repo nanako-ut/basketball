{
 "cells": [
  {
   "cell_type": "markdown",
   "metadata": {},
   "source": [
    "# Googlemap apiを使って２地点の距離を取得し、距離データをグラフ化する"
   ]
  },
  {
   "cell_type": "markdown",
   "metadata": {},
   "source": [
    "## Googlemap apiを使ってみる"
   ]
  },
  {
   "cell_type": "code",
   "execution_count": 13,
   "metadata": {},
   "outputs": [],
   "source": [
    "import googlemaps\n",
    "from datetime import datetime"
   ]
  },
  {
   "cell_type": "code",
   "execution_count": 2,
   "metadata": {},
   "outputs": [
    {
     "data": {
      "text/plain": [
       "'1,032 km'"
      ]
     },
     "execution_count": 2,
     "metadata": {},
     "output_type": "execute_result"
    }
   ],
   "source": [
    "gmaps = googlemaps.Client(key='取得したAPIキー')\n",
    "\n",
    "now = datetime.now()\n",
    "directions_result = gmaps.directions(\"千葉県船橋市習志野台７丁目５−１\", \n",
    "                                     \"北海道札幌市豊平区豊平５条１１丁目１−１\",\n",
    "                                     mode=\"walking\",\n",
    "                                     departure_time=now)\n",
    "\n",
    "directions_result[0]['legs'][0]['distance']['text']"
   ]
  },
  {
   "cell_type": "markdown",
   "metadata": {},
   "source": [
    "## Bリーグのデータを使って、試合会場間の距離を取得する"
   ]
  },
  {
   "cell_type": "code",
   "execution_count": 1,
   "metadata": {},
   "outputs": [],
   "source": [
    "import pandas as pd\n",
    "import numpy as np\n",
    "import seaborn as sns\n",
    "import matplotlib.pyplot as plt\n",
    "%matplotlib inline"
   ]
  },
  {
   "cell_type": "markdown",
   "metadata": {},
   "source": [
    "### 住所から２地点間の距離を取得する"
   ]
  },
  {
   "cell_type": "code",
   "execution_count": 14,
   "metadata": {},
   "outputs": [],
   "source": [
    "gmaps = googlemaps.Client(key='取得したAPIキー')\n",
    "\n",
    "def get_distance(ad_prev, ad_next):\n",
    "    # 始点と終点が同じだとエラーになるので、始点＝終点なら距離０とする\n",
    "    if ad_prev == ad_next:\n",
    "        distance = '0 km'\n",
    "    else:\n",
    "        now = datetime.now()\n",
    "        directions_result = gmaps.directions(ad_prev,\n",
    "                                             ad_next,\n",
    "                                             mode=\"walking\",\n",
    "                                             departure_time=now)\n",
    "        distance = directions_result[0]['legs'][0]['distance']['text']\n",
    "    \n",
    "    return distance"
   ]
  },
  {
   "cell_type": "markdown",
   "metadata": {},
   "source": [
    "### 指定したチームのデータを取得する"
   ]
  },
  {
   "cell_type": "code",
   "execution_count": 18,
   "metadata": {},
   "outputs": [],
   "source": [
    "def get_tearm_data(df, team_name):\n",
    "    df_sec = df.query('team_name == @team_name').copy()\n",
    "\n",
    "    # 日程順にソート\n",
    "    df_sec.loc[0:, 'date_DT'] = pd.to_datetime(df_sec.loc[0:, 'date'], format='%Y/%m/%d')\n",
    "    df_sec = df_sec.sort_values('date_DT').reset_index(drop=True)\n",
    "\n",
    "    # キョリを算出\n",
    "    df_sec['distance_s'] = '0 Km'\n",
    "    df_sec['distance'] = 0\n",
    "    df_sec['accum'] = 0\n",
    "    for index, row in df_sec.iterrows():\n",
    "        if index > 0 :\n",
    "            # 距離を取得\n",
    "            distance = get_distance(df_sec.loc[index-1, 'address'] , df_sec.loc[index, 'address'])\n",
    "            df_sec.loc[index, 'distance_s'] = distance\n",
    "            # google map apiから「9,999 km」と返ってくるので、文字列から数値に変換する\n",
    "            df_sec.loc[index, 'distance'] = float(distance.replace(' km','').replace(',',''))\n",
    "            df_sec.loc[index, 'accum'] = df_sec.loc[index-1, 'accum'] + df_sec.loc[index, 'distance']\n",
    "    \n",
    "    return df_sec"
   ]
  },
  {
   "cell_type": "markdown",
   "metadata": {},
   "source": [
    "### チーム名定義"
   ]
  },
  {
   "cell_type": "code",
   "execution_count": 19,
   "metadata": {},
   "outputs": [],
   "source": [
    "team_name = [\n",
    "    '千葉ジェッツ',\n",
    "    '秋田ノーザンハピネッツ',\n",
    "    '三遠ネオフェニックス',\n",
    "    '滋賀レイクスターズ',\n",
    "    'レバンガ北海道',\n",
    "    'アルバルク東京',\n",
    "    '名古屋ダイヤモンドドルフィンズ',\n",
    "    '富山グラウジーズ',\n",
    "    'ライジングゼファー福岡',\n",
    "    '新潟アルビレックスBB',\n",
    "    '栃木ブレックス',\n",
    "    '川崎ブレイブサンダース',\n",
    "    '京都ハンナリーズ',\n",
    "    '大阪エヴェッサ',\n",
    "    '琉球ゴールデンキングス',\n",
    "    'シーホース三河',\n",
    "    'サンロッカーズ渋谷',\n",
    "    '横浜ビー・コルセアーズ']"
   ]
  },
  {
   "cell_type": "markdown",
   "metadata": {},
   "source": [
    "### チームデータを取得し、csvに保存する"
   ]
  },
  {
   "cell_type": "code",
   "execution_count": 20,
   "metadata": {},
   "outputs": [],
   "source": [
    "# 試合結果のデータを読み込む\n",
    "df = pd.read_csv('B-stats.csv')\n",
    "\n",
    "#df_data = pd.DataFrame()\n",
    "\n",
    "# 距離を付与したチームデータを取得\n",
    "for team in team_name:\n",
    "    df_sec = get_tearm_data(df, team)\n",
    "    if team == \"千葉ジェッツ\":\n",
    "        df_data = df_sec\n",
    "    else:\n",
    "        df_data = pd.concat([df_data, df_sec])\n",
    "\n",
    "# インデックスを振り直し\n",
    "df_data.reset_index(drop=False)\n",
    "\n",
    "# ファイルに出力\n",
    "df_data.to_csv('B-stats_distance.csv')"
   ]
  },
  {
   "cell_type": "markdown",
   "metadata": {},
   "source": [
    "## 散布図にしてみる\n",
    "\n",
    "全チーム、各試合毎の、移動距離と総得点を散布図にプロットする"
   ]
  },
  {
   "cell_type": "code",
   "execution_count": 20,
   "metadata": {
    "scrolled": true
   },
   "outputs": [
    {
     "data": {
      "image/png": "[encoded data removed]",
      "text/plain": [
       "<Figure size 421.25x360 with 1 Axes>"
      ]
     },
     "metadata": {},
     "output_type": "display_data"
    }
   ],
   "source": [
    "# 距離を付与したデータを読み込む\n",
    "df_data = pd.read_csv('B-stats_distance.csv')\n",
    "\n",
    "\n",
    "# 散布図\n",
    "## 得点の型をint型へ\n",
    "df_data['score_int'] = df_data['score'].astype(np.int64)\n",
    "# フォントを指定\n",
    "sns.set(font='IPAexGothic')\n",
    "\n",
    "sns.lmplot(x=\"distance\", y=\"score_int\", size=5, hue=\"result\", scatter=True, fit_reg=False, data=df_data, markers=[\"x\", \"o\"])\n",
    "plt.xlabel('距離')\n",
    "plt.ylabel('総得点')\n",
    "plt.show()"
   ]
  },
  {
   "cell_type": "markdown",
   "metadata": {},
   "source": [
    "## 棒グラフで見てみる\n",
    "\n",
    "各チーム別の移動距離を棒グラフで見てみる"
   ]
  },
  {
   "cell_type": "code",
   "execution_count": 2,
   "metadata": {},
   "outputs": [],
   "source": [
    "# 距離を付与したデータを読み込む\n",
    "df_data = pd.read_csv('B-stats_distance.csv')\n",
    "\n",
    "# チーム別の総移動距離を求める\n",
    "df_sec = df_data.groupby('abbr_team_name').sum()"
   ]
  },
  {
   "cell_type": "code",
   "execution_count": 11,
   "metadata": {
    "scrolled": true
   },
   "outputs": [
    {
     "data": {
      "image/png": "[encoded data removed]",
      "text/plain": [
       "<Figure size 720x360 with 1 Axes>"
      ]
     },
     "metadata": {},
     "output_type": "display_data"
    }
   ],
   "source": [
    "# 棒グラフ\n",
    "plt.figure(figsize=(10, 5))\n",
    "# フォントを指定\n",
    "sns.set(font='IPAexGothic')\n",
    "\n",
    "# 文字を少し大きく（\"paper\"<\"notebook\"<\"talk\"<\"poster\")\n",
    "sns.set_context(\"talk\")\n",
    "sns.barplot(x=df_sec.index, y='distance', data=df_sec)\n",
    "plt.xlabel('チーム')\n",
    "plt.ylabel('距離')\n",
    "plt.show()\n"
   ]
  },
  {
   "cell_type": "code",
   "execution_count": null,
   "metadata": {},
   "outputs": [],
   "source": []
  }
 ],
 "metadata": {
  "kernelspec": {
   "display_name": "Python 3",
   "language": "python",
   "name": "python3"
  },
  "language_info": {
   "codemirror_mode": {
    "name": "ipython",
    "version": 3
   },
   "file_extension": ".py",
   "mimetype": "text/x-python",
   "name": "python",
   "nbconvert_exporter": "python",
   "pygments_lexer": "ipython3",
   "version": "3.6.5"
  }
 },
 "nbformat": 4,
 "nbformat_minor": 2
}
